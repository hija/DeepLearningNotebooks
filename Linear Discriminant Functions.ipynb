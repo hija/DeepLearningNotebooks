{
 "cells": [
  {
   "cell_type": "code",
   "execution_count": 1,
   "metadata": {
    "collapsed": true
   },
   "outputs": [],
   "source": [
    "import numpy as np"
   ]
  },
  {
   "cell_type": "code",
   "execution_count": 4,
   "metadata": {
    "collapsed": true
   },
   "outputs": [],
   "source": [
    "# Two classes\n",
    "c1 = np.array([[0,0],[0,1]])\n",
    "c2 = np.array([[1,0],[1,1]])\n",
    "\n",
    "assert c1[0].shape == c2[0].shape"
   ]
  },
  {
   "cell_type": "code",
   "execution_count": 40,
   "metadata": {},
   "outputs": [
    {
     "name": "stdout",
     "output_type": "stream",
     "text": [
      "[[-1  0 -1]\n",
      " [-1 -1 -1]]\n"
     ]
    }
   ],
   "source": [
    "# Initialize w (i.e. with zeros)\n",
    "w = np.zeros(c1[0].shape[0] + 1) #+1 for bias\n",
    "\n",
    "# Add bias-term for classes\n",
    "_c1 = np.append(c1, np.repeat(1,c1[0].shape[0]).reshape((c1[0].shape[0], 1)), axis=1)\n",
    "_c2 = np.append(c2, np.repeat(1,c1[0].shape[0]).reshape((c1[0].shape[0], 1)), axis=1)\n",
    "\n",
    "# Multiply _c2*-1 so we can check if > 0 more conveniently\n",
    "_c2 = _c2*-1"
   ]
  },
  {
   "cell_type": "code",
   "execution_count": 56,
   "metadata": {},
   "outputs": [],
   "source": [
    "# Main loop\n",
    "\n",
    "while True:\n",
    "    \n",
    "    # Test which samples are wrong classified\n",
    "    wrong_classified = []\n",
    "    \n",
    "    for sample in _c1:\n",
    "        # Calculate the function value (i.e. w0 + w1*x1 + w2*x2 + ...)\n",
    "        # It is correctly classified if the value is > 0, thus wrongly if it is <= 0\n",
    "        if sum(sample*w) <= 0:\n",
    "            wrong_classified.append(sample)\n",
    "            \n",
    "    for sample in _c2:\n",
    "        # Same for _c2\n",
    "        if sum(sample*w) <= 0:\n",
    "            wrong_classified.append(sample)\n",
    "    \n",
    "    # Break if no samples were wrong classified\n",
    "    if len(wrong_classified) == 0:\n",
    "        break\n",
    "    \n",
    "    # Otherwise calculate delta\n",
    "    delta = np.sum(wrong_classified, axis=0)\n",
    "    \n",
    "    # Add delta to weight\n",
    "    w = w + delta"
   ]
  },
  {
   "cell_type": "code",
   "execution_count": null,
   "metadata": {},
   "outputs": [],
   "source": []
  },
  {
   "cell_type": "code",
   "execution_count": null,
   "metadata": {
    "collapsed": true
   },
   "outputs": [],
   "source": []
  }
 ],
 "metadata": {
  "kernelspec": {
   "display_name": "Python 3",
   "language": "python",
   "name": "python3"
  },
  "language_info": {
   "codemirror_mode": {
    "name": "ipython",
    "version": 3
   },
   "file_extension": ".py",
   "mimetype": "text/x-python",
   "name": "python",
   "nbconvert_exporter": "python",
   "pygments_lexer": "ipython3",
   "version": "3.6.5"
  }
 },
 "nbformat": 4,
 "nbformat_minor": 2
}
