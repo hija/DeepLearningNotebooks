{
 "cells": [
  {
   "cell_type": "code",
   "execution_count": 1,
   "metadata": {},
   "outputs": [],
   "source": [
    "import mglearn\n",
    "import numpy as np\n",
    "from sklearn.linear_model import LinearRegression\n",
    "from sklearn.model_selection import train_test_split\n",
    "from sklearn.preprocessing import StandardScaler"
   ]
  },
  {
   "cell_type": "code",
   "execution_count": 2,
   "metadata": {},
   "outputs": [
    {
     "name": "stdout",
     "output_type": "stream",
     "text": [
      "Train accuracy of scikit-learn: 0.77\r\n",
      "Test accuracy of scikit-learn: 0.64\n"
     ]
    }
   ],
   "source": [
    "# Linear Regression w/ sklearn\n",
    "\n",
    "# Load dataset\n",
    "t = mglearn.datasets.load_boston()\n",
    "X, Y = (t.data, t.target)\n",
    "\n",
    "# Make train/test set\n",
    "X_train, X_test, Y_train, Y_test = train_test_split(X, Y, random_state=0)\n",
    "\n",
    "# Create model\n",
    "model = LinearRegression()\n",
    "model.fit(X_train, Y_train)\n",
    "\n",
    "# Check accuracy\n",
    "train_acc = model.score(X_train, Y_train)\n",
    "test_acc = model.score(X_test, Y_test)\n",
    "print('Train accuracy of scikit-learn: {:.2f}\\r\\nTest accuracy of scikit-learn: {:.2f}'.format(train_acc, test_acc))"
   ]
  },
  {
   "cell_type": "code",
   "execution_count": 3,
   "metadata": {},
   "outputs": [
    {
     "name": "stdout",
     "output_type": "stream",
     "text": [
      "Train accuracy of own implementation: 0.77\r\n",
      "Test accuracy of own implementation: 0.64\n"
     ]
    }
   ],
   "source": [
    "# Linear Regression w/ Matrix fun\n",
    "\n",
    "class MatrixLinearRegression:\n",
    "    def __init__(self):\n",
    "        pass\n",
    "    \n",
    "    def fit(self, X, Y):\n",
    "        X_ = np.append(np.ones((X.shape[0],1)), X, axis = 1)\n",
    "        tmp1 = np.linalg.inv(np.dot(X_.T, X_))\n",
    "        tmp2 = np.dot(X_.T,Y)\n",
    "        self.betas = np.dot(tmp1, tmp2)\n",
    "    \n",
    "    def score(self, X, Y):\n",
    "        X_ = np.append(np.ones((X.shape[0],1)), X, axis = 1)\n",
    "        prediction = np.dot(X_, self.betas)\n",
    "        Y_mean = np.mean(Y)\n",
    "        ssr = np.sum((prediction - Y)**2)\n",
    "        ssto = np.sum((Y - Y_mean)**2)\n",
    "        return 1 - ssr / ssto\n",
    "\n",
    "model = MatrixLinearRegression()\n",
    "model.fit(X_train, Y_train)\n",
    "print('Train accuracy of own implementation: {:.2f}\\r\\nTest accuracy of own implementation: {:.2f}'.format(model.score(X_train, Y_train), model.score(X_test, Y_test)))\n",
    "\n",
    "#Notice:\n",
    "#This Regression fails if underdetermined, i.e. with the extended_boston_example from mglearn!"
   ]
  },
  {
   "cell_type": "code",
   "execution_count": null,
   "metadata": {},
   "outputs": [],
   "source": []
  }
 ],
 "metadata": {
  "kernelspec": {
   "display_name": "Python 3",
   "language": "python",
   "name": "python3"
  },
  "language_info": {
   "codemirror_mode": {
    "name": "ipython",
    "version": 3
   },
   "file_extension": ".py",
   "mimetype": "text/x-python",
   "name": "python",
   "nbconvert_exporter": "python",
   "pygments_lexer": "ipython3",
   "version": "3.6.3"
  }
 },
 "nbformat": 4,
 "nbformat_minor": 2
}
