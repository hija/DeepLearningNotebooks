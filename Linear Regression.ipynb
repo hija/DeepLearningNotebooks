{
 "cells": [
  {
   "cell_type": "code",
   "execution_count": 1,
   "metadata": {},
   "outputs": [],
   "source": [
    "import mglearn\n",
    "import numpy as np\n",
    "from sklearn.linear_model import LinearRegression\n",
    "from sklearn.model_selection import train_test_split\n",
    "from sklearn.preprocessing import normalize"
   ]
  },
  {
   "cell_type": "code",
   "execution_count": 2,
   "metadata": {},
   "outputs": [
    {
     "name": "stdout",
     "output_type": "stream",
     "text": [
      "Train accuracy: 0.95\r\n",
      "Test accuracy: 0.61\n"
     ]
    }
   ],
   "source": [
    "# Linear Regression w/ sklearn\n",
    "\n",
    "# Load dataset\n",
    "X, Y = mglearn.datasets.load_extended_boston()\n",
    "\n",
    "# Make train/test set\n",
    "X_train, X_test, Y_train, Y_test = train_test_split(X, Y, random_state=0)\n",
    "\n",
    "# Create model\n",
    "model = LinearRegression()\n",
    "model.fit(X_train, Y_train)\n",
    "\n",
    "# Check accuracy\n",
    "train_acc = model.score(X_train, Y_train)\n",
    "test_acc = model.score(X_test, Y_test)\n",
    "print('Train accuracy: {:.2f}\\r\\nTest accuracy: {:.2f}'.format(train_acc, test_acc))"
   ]
  },
  {
   "cell_type": "code",
   "execution_count": 3,
   "metadata": {},
   "outputs": [
    {
     "name": "stdout",
     "output_type": "stream",
     "text": [
      "Working example score: 0.70\n",
      "Not working example score: 152.81\n"
     ]
    }
   ],
   "source": [
    "# Linear Regression w/ Matrix fun\n",
    "\n",
    "class MatrixLinearRegression:\n",
    "    def __init__(self):\n",
    "        pass\n",
    "    \n",
    "    def fit(self, X, Y):\n",
    "        X_ = np.append(np.ones((X.shape[0],1)), X, axis = 1)\n",
    "        tmp1 = np.linalg.inv(np.dot(X_.T, X_))\n",
    "        tmp2 = np.dot(X_.T,Y)\n",
    "        self.betas = np.dot(tmp1, tmp2)\n",
    "        #print(np.dot(tmp1, tmp2))\n",
    "    \n",
    "    def score(self, X, Y):\n",
    "        X_ = np.append(np.ones((X.shape[0],1)), X, axis = 1)\n",
    "        prediction = np.dot(X_, self.betas)\n",
    "        Y_mean = np.mean(Y)\n",
    "        ssr = np.sum((prediction - Y_mean)**2)\n",
    "        ssto = np.sum((Y - Y_mean)**2)\n",
    "        return ssr/ssto\n",
    "\n",
    "X = np.array(np.mat('70 1;69 1;60 1;69 1;70 1;69 1;70 1;83 0;70 0;75 0;74 0;90 0;87 0;86 0;85 0'))\n",
    "Y = np.array(np.mat('495;420;330;420;495;420;495;580;390;535;420;500;620;580;600'))\n",
    "\n",
    "model = MatrixLinearRegression()\n",
    "model.fit(X, Y)\n",
    "print('Working example score: {:.2f}'.format(model.score(X, Y)))\n",
    "\n",
    "np.random.seed(30)\n",
    "X = np.random.randint(500, size=(10, 14))\n",
    "Y = np.random.randint(500, size=(10,1))\n",
    "model.fit(X, Y)\n",
    "print('Not working example score: {:.2f}'.format(model.score(X, Y)))\n",
    "\n",
    "# ToDo: Fix. Sometimes the prediction is right, sometimes it is not. I think I need to do scome standardization on my data.."
   ]
  },
  {
   "cell_type": "code",
   "execution_count": null,
   "metadata": {},
   "outputs": [],
   "source": []
  }
 ],
 "metadata": {
  "kernelspec": {
   "display_name": "Python 3",
   "language": "python",
   "name": "python3"
  },
  "language_info": {
   "codemirror_mode": {
    "name": "ipython",
    "version": 3
   },
   "file_extension": ".py",
   "mimetype": "text/x-python",
   "name": "python",
   "nbconvert_exporter": "python",
   "pygments_lexer": "ipython3",
   "version": "3.6.3"
  }
 },
 "nbformat": 4,
 "nbformat_minor": 2
}
