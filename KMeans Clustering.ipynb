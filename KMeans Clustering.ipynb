{
 "cells": [
  {
   "cell_type": "markdown",
   "metadata": {},
   "source": [
    "# KMeans Clustering\n",
    "Clustering is an unsupervised learning method, i.e. to find hidden structures in a dataset.\n",
    "It works by measuring similarity between observations and assuming, that the two observations which have a high smiliarity with each other, somehow belong to the same category (or cluster).\n",
    "\n",
    "__KMeans__\n",
    "KMeans works by creating random centers (they can also be part of the initialization) and assigning observations to the center by assigning the center with the lowest distance. Then the centers get repositioned by centering them exactly in the middle of all assigned observations. The process starts again, until the termination criterium (i.e. num of iterations or no more change of the centers' positions) is reached."
   ]
  },
  {
   "cell_type": "code",
   "execution_count": 24,
   "metadata": {},
   "outputs": [],
   "source": [
    "# Imports\n",
    "from sklearn.datasets import load_digits\n",
    "from sklearn.model_selection import train_test_split\n",
    "\n",
    "import numpy as np\n",
    "\n",
    "# Load Dataset\n",
    "dataset = load_digits()\n",
    "\n",
    "X = dataset.data\n",
    "X_train, X_test = train_test_split(X, random_state=0)"
   ]
  },
  {
   "cell_type": "code",
   "execution_count": 26,
   "metadata": {},
   "outputs": [
    {
     "name": "stdout",
     "output_type": "stream",
     "text": [
      "[  0.   3.  13.  16.   9.   0.   0.   0.   0.  10.  15.  13.  15.   2.   0.\n",
      "   0.   0.  15.   4.   4.  16.   1.   0.   0.   0.   0.   0.   5.  16.   2.\n",
      "   0.   0.   0.   0.   1.  14.  13.   0.   0.   0.   0.   0.  10.  16.   5.\n",
      "   0.   0.   0.   0.   4.  16.  13.   8.  10.   9.   1.   0.   2.  16.  16.\n",
      "  14.  12.   9.   1.]\n",
      "[  0.   0.   1.  14.  13.   4.   0.   0.   0.   3.  15.  12.  11.  15.   0.\n",
      "   0.   0.   8.  11.   1.   7.  13.   0.   0.   0.   1.  13.  14.  16.   1.\n",
      "   0.   0.   0.   0.   0.  14.  13.  14.   2.   0.   0.   0.   2.  12.   0.\n",
      "   9.   8.   0.   0.   0.   3.  13.   4.  12.   6.   0.   0.   0.   0.   9.\n",
      "  14.  13.   1.   0.]\n",
      "27.0\n"
     ]
    }
   ],
   "source": [
    "#Euclidean distance to measure distance to centers\n",
    "\n",
    "def distance(p1, p2):\n",
    "    return np.sqrt(np.sum(p1-p2)**2)\n",
    "\n",
    "# Test\n",
    "print(X_train[0,])\n",
    "print(X_train[1,])\n",
    "print(distance(X_train[0,], X_train[1,]))"
   ]
  },
  {
   "cell_type": "code",
   "execution_count": 33,
   "metadata": {},
   "outputs": [],
   "source": [
    "def initCenters(n, features, sigma, mu):\n",
    "    centers = sigma*np.random.randn(n, features) + mu\n",
    "    return centers\n",
    "\n",
    "# Test\n",
    "sigma = np.std(X)\n",
    "mu = np.mean(X)\n",
    "\n",
    "centers = initCenters(5, X.shape[1], sigma, mu)"
   ]
  },
  {
   "cell_type": "code",
   "execution_count": 47,
   "metadata": {},
   "outputs": [
    {
     "name": "stdout",
     "output_type": "stream",
     "text": [
      "[ 1.5  2.5  3.5]\n"
     ]
    }
   ],
   "source": [
    "def findNearestCenter(p1, centers):\n",
    "    distances = [distance(p1, c) for c in centers]\n",
    "    return np.argmin(distances)\n",
    "\n",
    "def recalculateCenter(datapoints):\n",
    "    return np.sum(datapoints, axis = 0) / datapoints.shape[0]\n",
    "\n",
    "# Test\n",
    "print(recalculateCenter(np.array([[1,2,3],[2,3,4]])))"
   ]
  },
  {
   "cell_type": "code",
   "execution_count": null,
   "metadata": {},
   "outputs": [],
   "source": []
  }
 ],
 "metadata": {
  "kernelspec": {
   "display_name": "Python 3",
   "language": "python",
   "name": "python3"
  },
  "language_info": {
   "codemirror_mode": {
    "name": "ipython",
    "version": 3
   },
   "file_extension": ".py",
   "mimetype": "text/x-python",
   "name": "python",
   "nbconvert_exporter": "python",
   "pygments_lexer": "ipython3",
   "version": "3.6.3"
  }
 },
 "nbformat": 4,
 "nbformat_minor": 2
}
